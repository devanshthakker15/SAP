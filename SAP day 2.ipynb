{
 "cells": [
  {
   "cell_type": "markdown",
   "id": "793fbcac-1006-49b1-a863-02e1e7c8487c",
   "metadata": {},
   "source": [
    "# module 1 - Machine Learning Introduction\n",
    "- Concept emerged during WW2\n",
    "- Primarily known as Turing Machine\n",
    "    - Intent to learn Encrypted message\n",
    "    - Accepted as field of science in 1960's\n",
    " \n",
    "### Types of machine learning\n",
    "- **Supervised Learning:** Output given to algorithm\n",
    "- **Unsupervised Learning:** Grouping/CLustering\n",
    "- **Reinforcement Learning:** Based on Feedback\n",
    "\n",
    "### Types of Data\n",
    "- **Qualitaive**\n",
    "    - Nominal Data (Good, Bad,...)\n",
    "    - Ordinal Data(First, Second) (Ranks)\n",
    " \n",
    "- **Quantitative**\n",
    "    - Discrete Data (student count)\n",
    "    - Continuous data\n",
    " \n",
    "### Libraries\n",
    "- **Numpy**\n",
    "    - Multidimensional Arrays and matrices\n",
    "    - High level mathematical functions\n",
    "    - import numpy\n",
    "- **Pandas**\n",
    "    - Easy Data Structure\n",
    "    - Quicker data analytics\n",
    "    - Structured and unstructured data\n",
    "    - `import pandas as pd`\n",
    "- **Seaborn**\n",
    "    - Visualization\n",
    "    - Statistical Graphical data\n",
    "    - Relational Patterns\n",
    "    - Used for EDA (Exploratory Data Analysis)\n",
    "    -  `import seaborn as sns`\n",
    "- **Scikit-Learn (sklearn)**\n",
    "    - A free machine learning library\n",
    "    - includes most of the classification regression and clustering algorithms\n",
    "    - Works with numerical and scientific libraries (numpy and Scipy)\n",
    "    - Machine learning pipelined tasks are already in sciket learn\n",
    "    - `import sklearn`\n",
    "\n",
    "### Machine Learning Workflow\n",
    "`Data Acquisition` ---> `Data Cleaning` ---> `Model Training` <---> `Model Testing` --->`model Deployment`"
   ]
  },
  {
   "cell_type": "code",
   "execution_count": 8,
   "id": "d4564374-445c-404e-86ce-e8931f0f2858",
   "metadata": {},
   "outputs": [],
   "source": [
    "import numpy as np\n",
    "import pandas as pd\n",
    "import seaborn as sns\n",
    "import sklearn\n"
   ]
  },
  {
   "cell_type": "code",
   "execution_count": 10,
   "id": "d53f0e5c-7f86-424d-b613-513f2834368c",
   "metadata": {},
   "outputs": [
    {
     "name": "stdout",
     "output_type": "stream",
     "text": [
      "[1]\n"
     ]
    }
   ],
   "source": [
    "from sklearn import tree\n",
    "features =[[140,1],[130,1],[150,0],[170,0]]\n",
    "labels = [0,0,1,1]\n",
    "clf = tree.DecisionTreeClassifier()\n",
    "clf = clf.fit(features, labels)\n",
    "print(clf.predict([[150,0]]))"
   ]
  },
  {
   "cell_type": "code",
   "execution_count": 11,
   "id": "88dfce7c-6c7d-4933-aa0a-1cf03912d5ab",
   "metadata": {},
   "outputs": [],
   "source": [
    "# 0:bumpy; 1: smooth\n",
    "# 0:apple; 1: orange"
   ]
  },
  {
   "cell_type": "markdown",
   "id": "87c42d0f-8cdc-48cc-ab17-8f311f8126b0",
   "metadata": {},
   "source": [
    "### Need for Model Evaluation\n",
    "- To know the accuracy of the model\n",
    "- Build on subset of the total data, learned as training data and they are used to predict on new data that is not part of the training subset\n",
    "- If a model is totally adapted to a traing data, it would fail to predict accurately any new data\n",
    "\n",
    "#### Types of fitting\n",
    "- If model is too general, it would predict poorly in particular cases(**Underfitting**).\n",
    "- A good model should be able to predict on max cases (**perfect fitting**)\n",
    "- if model is totally adapted to its training data, it would fail to predict accurately any new data (**Overfitting**)"
   ]
  },
  {
   "cell_type": "markdown",
   "id": "65a18b6a-f1ec-4777-8616-19d1a5a1af05",
   "metadata": {},
   "source": [
    "### Git & Github\n",
    "- Git is software for tracking changes\n",
    "- Handle any set of files\n",
    "- Used for work among programmers collaboratively\n",
    "- Developing source code during software development\n",
    "\n",
    "### Github\n",
    "- Provider of internet hosting for software development and version control\n",
    "- Offers the distributed version control\n",
    "\n",
    "\n",
    "### Initialize git repository\n",
    "`git init`"
   ]
  }
 ],
 "metadata": {
  "kernelspec": {
   "display_name": "Python 3 (ipykernel)",
   "language": "python",
   "name": "python3"
  },
  "language_info": {
   "codemirror_mode": {
    "name": "ipython",
    "version": 3
   },
   "file_extension": ".py",
   "mimetype": "text/x-python",
   "name": "python",
   "nbconvert_exporter": "python",
   "pygments_lexer": "ipython3",
   "version": "3.11.2"
  }
 },
 "nbformat": 4,
 "nbformat_minor": 5
}
